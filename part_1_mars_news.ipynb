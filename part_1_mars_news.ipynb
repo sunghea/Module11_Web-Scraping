{
 "cells": [
  {
   "cell_type": "markdown",
   "metadata": {},
   "source": [
    "# Module 12 Challenge\n",
    "## Deliverable 1: Scrape Titles and Preview Text from Mars News"
   ]
  },
  {
   "cell_type": "code",
   "execution_count": 1,
   "metadata": {},
   "outputs": [],
   "source": [
    "# Import Splinter and BeautifulSoup\n",
    "from splinter import Browser\n",
    "from bs4 import BeautifulSoup as soup\n",
    "from pprint import pprint"
   ]
  },
  {
   "cell_type": "code",
   "execution_count": 2,
   "metadata": {
    "scrolled": true
   },
   "outputs": [],
   "source": [
    "browser = Browser('chrome')"
   ]
  },
  {
   "cell_type": "markdown",
   "metadata": {},
   "source": [
    "### Step 1: Visit the Website\n",
    "\n",
    "1. Use automated browsing to visit the [Mars news site](https://static.bc-edx.com/data/web/mars_news/index.html). Inspect the page to identify which elements to scrape.\n",
    "\n",
    "      > **Hint** To identify which elements to scrape, you might want to inspect the page by using Chrome DevTools."
   ]
  },
  {
   "cell_type": "code",
   "execution_count": 3,
   "metadata": {},
   "outputs": [],
   "source": [
    "# Visit the Mars news site\n",
    "url = 'https://static.bc-edx.com/data/web/mars_news/index.html'\n",
    "browser.visit(url)"
   ]
  },
  {
   "cell_type": "markdown",
   "metadata": {},
   "source": [
    "### Step 2: Scrape the Website\n",
    "\n",
    "Create a Beautiful Soup object and use it to extract text elements from the website."
   ]
  },
  {
   "cell_type": "code",
   "execution_count": 4,
   "metadata": {},
   "outputs": [],
   "source": [
    "# Create a Beautiful Soup object\n",
    "html = browser.html\n",
    "soup = soup(html, 'html.parser')\n"
   ]
  },
  {
   "cell_type": "code",
   "execution_count": 5,
   "metadata": {},
   "outputs": [],
   "source": [
    "# Find the container that holds the news articles\n",
    "title = soup.find('div', class_=\"content_title\")\n",
    "preview= soup.find('div', class_=\"article_teaser_body\")"
   ]
  },
  {
   "cell_type": "code",
   "execution_count": 6,
   "metadata": {},
   "outputs": [
    {
     "data": {
      "text/plain": [
       "\"NASA's MAVEN Observes Martian Light Show Caused by Major Solar Storm\""
      ]
     },
     "execution_count": 6,
     "metadata": {},
     "output_type": "execute_result"
    }
   ],
   "source": [
    "title.text"
   ]
  },
  {
   "cell_type": "code",
   "execution_count": 7,
   "metadata": {},
   "outputs": [
    {
     "data": {
      "text/plain": [
       "'For the first time in its eight years orbiting Mars, NASA’s MAVEN mission witnessed two different types of ultraviolet aurorae simultaneously, the result of solar storms that began on Aug. 27.'"
      ]
     },
     "execution_count": 7,
     "metadata": {},
     "output_type": "execute_result"
    }
   ],
   "source": [
    "preview.text"
   ]
  },
  {
   "cell_type": "markdown",
   "metadata": {},
   "source": [
    "### Step 3: Store the Results\n",
    "\n",
    "Extract the titles and preview text of the news articles that you scraped. Store the scraping results in Python data structures as follows:\n",
    "\n",
    "* Store each title-and-preview pair in a Python dictionary. And, give each dictionary two keys: `title` and `preview`. An example is the following:\n",
    "\n",
    "  ```python\n",
    "  {'title': \"NASA's MAVEN Observes Martian Light Show Caused by Major Solar Storm\", \n",
    "   'preview': \"For the first time in its eight years orbiting Mars, NASA’s MAVEN mission witnessed two different types of ultraviolet aurorae simultaneously, the result of solar storms that began on Aug. 27.\"\n",
    "  }\n",
    "  ```\n",
    "\n",
    "* Store all the dictionaries in a Python list.\n",
    "\n",
    "* Print the list in your notebook."
   ]
  },
  {
   "cell_type": "code",
   "execution_count": 8,
   "metadata": {},
   "outputs": [],
   "source": [
    "# Create an empty list to store the dictionaries\n",
    "# Store the articles\n",
    "article_dict = {}\n",
    "rows = soup.find_all('div', class_=\"col-md-12\")\n",
    "news_list = []"
   ]
  },
  {
   "cell_type": "code",
   "execution_count": 9,
   "metadata": {},
   "outputs": [],
   "source": [
    "# Loop through the text elements\n",
    "# Extract the title and preview text from the elements\n",
    "# Store each title and preview pair in a dictionary\n",
    "# Add the dictionary to the list\n",
    "\n",
    "# Loop through the rows\n",
    "for row in rows:\n",
    "    row_title = row.find('div', class_=\"content_title\")\n",
    "    row_preview = row.find('div', class_=\"article_teaser_body\")\n",
    "\n",
    "    # Check if both title and preview are found\n",
    "    if row_title and row_preview:\n",
    "        title = row_title.text.strip()\n",
    "        preview = row_preview.text.strip()\n",
    "\n",
    "        # Store in the dictionary\n",
    "        article_dict = {'title': title, 'preview': preview}\n",
    "        # Add the dictionary to the list\n",
    "        news_list.append(article_dict)\n",
    "            "
   ]
  },
  {
   "cell_type": "code",
   "execution_count": 10,
   "metadata": {},
   "outputs": [],
   "source": [
    "browser.quit()"
   ]
  },
  {
   "cell_type": "code",
   "execution_count": 11,
   "metadata": {},
   "outputs": [
    {
     "data": {
      "text/html": [
       "<div>\n",
       "<style scoped>\n",
       "    .dataframe tbody tr th:only-of-type {\n",
       "        vertical-align: middle;\n",
       "    }\n",
       "\n",
       "    .dataframe tbody tr th {\n",
       "        vertical-align: top;\n",
       "    }\n",
       "\n",
       "    .dataframe thead th {\n",
       "        text-align: right;\n",
       "    }\n",
       "</style>\n",
       "<table border=\"1\" class=\"dataframe\">\n",
       "  <thead>\n",
       "    <tr style=\"text-align: right;\">\n",
       "      <th></th>\n",
       "      <th>title</th>\n",
       "      <th>preview</th>\n",
       "    </tr>\n",
       "  </thead>\n",
       "  <tbody>\n",
       "    <tr>\n",
       "      <th>0</th>\n",
       "      <td>NASA's MAVEN Observes Martian Light Show Cause...</td>\n",
       "      <td>For the first time in its eight years orbiting...</td>\n",
       "    </tr>\n",
       "    <tr>\n",
       "      <th>1</th>\n",
       "      <td>NASA's MAVEN Observes Martian Light Show Cause...</td>\n",
       "      <td>For the first time in its eight years orbiting...</td>\n",
       "    </tr>\n",
       "    <tr>\n",
       "      <th>2</th>\n",
       "      <td>NASA Prepares to Say 'Farewell' to InSight Spa...</td>\n",
       "      <td>A closer look at what goes into wrapping up th...</td>\n",
       "    </tr>\n",
       "    <tr>\n",
       "      <th>3</th>\n",
       "      <td>NASA and ESA Agree on Next Steps to Return Mar...</td>\n",
       "      <td>The agency’s Perseverance rover will establish...</td>\n",
       "    </tr>\n",
       "    <tr>\n",
       "      <th>4</th>\n",
       "      <td>NASA's InSight Lander Detects Stunning Meteoro...</td>\n",
       "      <td>The agency’s lander felt the ground shake duri...</td>\n",
       "    </tr>\n",
       "    <tr>\n",
       "      <th>5</th>\n",
       "      <td>NASA To Host Briefing on InSight, Mars Reconna...</td>\n",
       "      <td>Scientists from two Mars missions will discuss...</td>\n",
       "    </tr>\n",
       "    <tr>\n",
       "      <th>6</th>\n",
       "      <td>Why NASA Is Trying To Crash Land on Mars</td>\n",
       "      <td>Like a car’s crumple zone, the experimental SH...</td>\n",
       "    </tr>\n",
       "    <tr>\n",
       "      <th>7</th>\n",
       "      <td>Curiosity Mars Rover Reaches Long-Awaited Salt...</td>\n",
       "      <td>After years of climbing, the Mars rover has ar...</td>\n",
       "    </tr>\n",
       "    <tr>\n",
       "      <th>8</th>\n",
       "      <td>Mars Mission Shields Up for Tests</td>\n",
       "      <td>Protecting Mars Sample Return spacecraft from ...</td>\n",
       "    </tr>\n",
       "    <tr>\n",
       "      <th>9</th>\n",
       "      <td>NASA's InSight Waits Out Dust Storm</td>\n",
       "      <td>InSight’s team is taking steps to help the sol...</td>\n",
       "    </tr>\n",
       "    <tr>\n",
       "      <th>10</th>\n",
       "      <td>NASA's InSight 'Hears' Its First Meteoroid Imp...</td>\n",
       "      <td>The Mars lander’s seismometer has picked up vi...</td>\n",
       "    </tr>\n",
       "    <tr>\n",
       "      <th>11</th>\n",
       "      <td>NASA's Perseverance Rover Investigates Geologi...</td>\n",
       "      <td>The latest findings provide greater detail on ...</td>\n",
       "    </tr>\n",
       "    <tr>\n",
       "      <th>12</th>\n",
       "      <td>NASA to Host Briefing on Perseverance Mars Rov...</td>\n",
       "      <td>Members of the mission will discuss the rover’...</td>\n",
       "    </tr>\n",
       "    <tr>\n",
       "      <th>13</th>\n",
       "      <td>NASA's Perseverance Makes New Discoveries in M...</td>\n",
       "      <td>The rover found that Jezero Crater’s floor is ...</td>\n",
       "    </tr>\n",
       "    <tr>\n",
       "      <th>14</th>\n",
       "      <td>10 Years Since Landing, NASA's Curiosity Mars ...</td>\n",
       "      <td>Despite signs of wear, the intrepid spacecraft...</td>\n",
       "    </tr>\n",
       "    <tr>\n",
       "      <th>15</th>\n",
       "      <td>SAM's Top 5 Discoveries Aboard NASA's Curiosit...</td>\n",
       "      <td>“Selfie” of the Curiosity rover with inset sho...</td>\n",
       "    </tr>\n",
       "  </tbody>\n",
       "</table>\n",
       "</div>"
      ],
      "text/plain": [
       "                                                title  \\\n",
       "0   NASA's MAVEN Observes Martian Light Show Cause...   \n",
       "1   NASA's MAVEN Observes Martian Light Show Cause...   \n",
       "2   NASA Prepares to Say 'Farewell' to InSight Spa...   \n",
       "3   NASA and ESA Agree on Next Steps to Return Mar...   \n",
       "4   NASA's InSight Lander Detects Stunning Meteoro...   \n",
       "5   NASA To Host Briefing on InSight, Mars Reconna...   \n",
       "6            Why NASA Is Trying To Crash Land on Mars   \n",
       "7   Curiosity Mars Rover Reaches Long-Awaited Salt...   \n",
       "8                   Mars Mission Shields Up for Tests   \n",
       "9                 NASA's InSight Waits Out Dust Storm   \n",
       "10  NASA's InSight 'Hears' Its First Meteoroid Imp...   \n",
       "11  NASA's Perseverance Rover Investigates Geologi...   \n",
       "12  NASA to Host Briefing on Perseverance Mars Rov...   \n",
       "13  NASA's Perseverance Makes New Discoveries in M...   \n",
       "14  10 Years Since Landing, NASA's Curiosity Mars ...   \n",
       "15  SAM's Top 5 Discoveries Aboard NASA's Curiosit...   \n",
       "\n",
       "                                              preview  \n",
       "0   For the first time in its eight years orbiting...  \n",
       "1   For the first time in its eight years orbiting...  \n",
       "2   A closer look at what goes into wrapping up th...  \n",
       "3   The agency’s Perseverance rover will establish...  \n",
       "4   The agency’s lander felt the ground shake duri...  \n",
       "5   Scientists from two Mars missions will discuss...  \n",
       "6   Like a car’s crumple zone, the experimental SH...  \n",
       "7   After years of climbing, the Mars rover has ar...  \n",
       "8   Protecting Mars Sample Return spacecraft from ...  \n",
       "9   InSight’s team is taking steps to help the sol...  \n",
       "10  The Mars lander’s seismometer has picked up vi...  \n",
       "11  The latest findings provide greater detail on ...  \n",
       "12  Members of the mission will discuss the rover’...  \n",
       "13  The rover found that Jezero Crater’s floor is ...  \n",
       "14  Despite signs of wear, the intrepid spacecraft...  \n",
       "15  “Selfie” of the Curiosity rover with inset sho...  "
      ]
     },
     "execution_count": 11,
     "metadata": {},
     "output_type": "execute_result"
    }
   ],
   "source": [
    "import pandas as pd\n",
    "df = pd.DataFrame(news_list)\n",
    "df"
   ]
  },
  {
   "cell_type": "code",
   "execution_count": 12,
   "metadata": {},
   "outputs": [],
   "source": [
    "# Save the DataFrame to a JSON file\n",
    "df.to_json('news_data.json', orient='records', lines=True)"
   ]
  },
  {
   "cell_type": "code",
   "execution_count": 13,
   "metadata": {},
   "outputs": [
    {
     "name": "stdout",
     "output_type": "stream",
     "text": [
      "                                                title  \\\n",
      "0   NASA's MAVEN Observes Martian Light Show Cause...   \n",
      "1   NASA's MAVEN Observes Martian Light Show Cause...   \n",
      "2   NASA Prepares to Say 'Farewell' to InSight Spa...   \n",
      "3   NASA and ESA Agree on Next Steps to Return Mar...   \n",
      "4   NASA's InSight Lander Detects Stunning Meteoro...   \n",
      "5   NASA To Host Briefing on InSight, Mars Reconna...   \n",
      "6            Why NASA Is Trying To Crash Land on Mars   \n",
      "7   Curiosity Mars Rover Reaches Long-Awaited Salt...   \n",
      "8                   Mars Mission Shields Up for Tests   \n",
      "9                 NASA's InSight Waits Out Dust Storm   \n",
      "10  NASA's InSight 'Hears' Its First Meteoroid Imp...   \n",
      "11  NASA's Perseverance Rover Investigates Geologi...   \n",
      "12  NASA to Host Briefing on Perseverance Mars Rov...   \n",
      "13  NASA's Perseverance Makes New Discoveries in M...   \n",
      "14  10 Years Since Landing, NASA's Curiosity Mars ...   \n",
      "15  SAM's Top 5 Discoveries Aboard NASA's Curiosit...   \n",
      "\n",
      "                                              preview  \n",
      "0   For the first time in its eight years orbiting...  \n",
      "1   For the first time in its eight years orbiting...  \n",
      "2   A closer look at what goes into wrapping up th...  \n",
      "3   The agency’s Perseverance rover will establish...  \n",
      "4   The agency’s lander felt the ground shake duri...  \n",
      "5   Scientists from two Mars missions will discuss...  \n",
      "6   Like a car’s crumple zone, the experimental SH...  \n",
      "7   After years of climbing, the Mars rover has ar...  \n",
      "8   Protecting Mars Sample Return spacecraft from ...  \n",
      "9   InSight’s team is taking steps to help the sol...  \n",
      "10  The Mars lander’s seismometer has picked up vi...  \n",
      "11  The latest findings provide greater detail on ...  \n",
      "12  Members of the mission will discuss the rover’...  \n",
      "13  The rover found that Jezero Crater’s floor is ...  \n",
      "14  Despite signs of wear, the intrepid spacecraft...  \n",
      "15  “Selfie” of the Curiosity rover with inset sho...  \n"
     ]
    }
   ],
   "source": [
    "# Load the JSON file into a DataFrame\n",
    "df_loaded = pd.read_json('news_data.json', orient='records', lines=True)\n",
    "\n",
    "# Display the loaded DataFrame\n",
    "pprint(df_loaded)"
   ]
  },
  {
   "cell_type": "code",
   "execution_count": null,
   "metadata": {},
   "outputs": [],
   "source": []
  }
 ],
 "metadata": {
  "kernelspec": {
   "display_name": "Python 3 (ipykernel)",
   "language": "python",
   "name": "python3"
  },
  "language_info": {
   "codemirror_mode": {
    "name": "ipython",
    "version": 3
   },
   "file_extension": ".py",
   "mimetype": "text/x-python",
   "name": "python",
   "nbconvert_exporter": "python",
   "pygments_lexer": "ipython3",
   "version": "3.11.5"
  },
  "vscode": {
   "interpreter": {
    "hash": "31f2aee4e71d21fbe5cf8b01ff0e069b9275f58929596ceb00d14d90e3e16cd6"
   }
  }
 },
 "nbformat": 4,
 "nbformat_minor": 4
}
